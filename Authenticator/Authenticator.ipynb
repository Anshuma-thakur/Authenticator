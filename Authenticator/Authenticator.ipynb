{
 "cells": [
  {
   "cell_type": "markdown",
   "id": "82489f82",
   "metadata": {},
   "source": [
    "OTP GENERATOR"
   ]
  },
  {
   "cell_type": "code",
   "execution_count": 2,
   "id": "53aa4991",
   "metadata": {},
   "outputs": [],
   "source": [
    "#importing libraries to generate an OTP\n",
    "import os\n",
    "import math\n",
    "import random\n",
    "import smtplib"
   ]
  },
  {
   "cell_type": "code",
   "execution_count": 3,
   "id": "0131f29b",
   "metadata": {},
   "outputs": [],
   "source": [
    "#Using random function to generate a code \n",
    "digits=\"0123456789\"\n",
    "OTP=\"\"\n",
    "for i in range(6):\n",
    "    OTP+=digits[math.floor(random.random()*10)]\n",
    "otp = OTP + \" is your OTP\"\n",
    "msg= otp"
   ]
  },
  {
   "cell_type": "code",
   "execution_count": 8,
   "id": "c41b868f",
   "metadata": {},
   "outputs": [
    {
     "name": "stdout",
     "output_type": "stream",
     "text": [
      "Enter your email: harshasharma241299@gmail.com\n",
      "Enter Your OTP >>: 1234\n",
      "Please Check your OTP again\n"
     ]
    }
   ],
   "source": [
    "#using SMTP simple mail text protocle to connect the mail accounts and sending OTP to ther user account\n",
    "s = smtplib.SMTP('smtp.gmail.com', 587)\n",
    "s.starttls()\n",
    "s.login(\"thakuranshuma@gmail.com\", \"akckmprbinfuqafy\")\n",
    "emailid = input(\"Enter your email: \")\n",
    "s.sendmail('&&&&&&&&&&&',emailid,msg)\n",
    "a = input(\"Enter Your OTP >>: \")\n",
    "if a == OTP:\n",
    "    print(\"Verified\")\n",
    "else:\n",
    "    print(\"Please Check your OTP again\")"
   ]
  },
  {
   "cell_type": "markdown",
   "id": "dba5d355",
   "metadata": {},
   "source": [
    "QR CODE READER"
   ]
  },
  {
   "cell_type": "code",
   "execution_count": 2,
   "id": "345e6760",
   "metadata": {},
   "outputs": [],
   "source": [
    "#importing libraries to access the camera and barcode \n",
    "import cv2\n",
    "from pyzbar import pyzbar"
   ]
  },
  {
   "cell_type": "code",
   "execution_count": 3,
   "id": "e34acdb4",
   "metadata": {},
   "outputs": [],
   "source": [
    "def read_barcodes(frame):\n",
    "    barcodes = pyzbar.decode(frame)\n",
    "    for barcode in barcodes:\n",
    "        x, y , w, h = barcode.rect\n",
    "        barcode_info = barcode.data.decode('utf-8')\n",
    "        cv2.rectangle(frame, (x, y),(x+w, y+h), (0, 255, 0), 2)\n",
    "        \n",
    "        font = cv2.FONT_HERSHEY_DUPLEX\n",
    "        cv2.putText(frame, barcode_info, (x + 6, y - 6), font, 2.0, (255, 255, 255), 1)\n",
    "        with open(\"barcode_result.txt\", mode ='w') as file:\n",
    "            file.write(\"Recognized Barcode:\" + barcode_info)\n",
    "    return frame"
   ]
  },
  {
   "cell_type": "code",
   "execution_count": 19,
   "id": "ea28cefb",
   "metadata": {},
   "outputs": [],
   "source": [
    "def main():\n",
    "    camera = cv2.VideoCapture(0)\n",
    "    ret, frame = camera.read()\n",
    "    while ret:\n",
    "        ret, frame = camera.read()\n",
    "        frame = read_barcodes(frame)\n",
    "        cv2.imshow('Barcode/QR code reader', frame)\n",
    "        if cv2.waitKey(1) & 0xFF == 27:\n",
    "            break\n",
    "    camera.release()\n",
    "    cv2.destroyAllWindows()\n",
    "if __name__ == '__main__':\n",
    "    main()"
   ]
  },
  {
   "cell_type": "markdown",
   "id": "6ad33809",
   "metadata": {},
   "source": [
    "QR CODE GENERATOR"
   ]
  },
  {
   "cell_type": "code",
   "execution_count": 15,
   "id": "c861fdf4",
   "metadata": {},
   "outputs": [
    {
     "name": "stdout",
     "output_type": "stream",
     "text": [
      "Collecting QRcodeNote: you may need to restart the kernel to use updated packages.\n",
      "  Downloading qrcode-7.3.1.tar.gz (43 kB)\n",
      "Requirement already satisfied: colorama in f:\\anaconda\\lib\\site-packages (from QRcode) (0.4.4)\n",
      "Building wheels for collected packages: QRcode\n",
      "  Building wheel for QRcode (setup.py): started\n",
      "  Building wheel for QRcode (setup.py): finished with status 'done'\n",
      "  Created wheel for QRcode: filename=qrcode-7.3.1-py3-none-any.whl size=40401 sha256=588ed912b86b7a35a4ccc18a22e9fac03fa4325554c5620f75d28ee44da85a64\n",
      "  Stored in directory: c:\\users\\hp\\appdata\\local\\pip\\cache\\wheels\\93\\54\\16\\55cec87f8d902ed84b94ab8fdb7e89ae1158c06e130bc83b03\n",
      "Successfully built QRcode\n",
      "Installing collected packages: QRcode\n",
      "Successfully installed QRcode-7.3.1\n",
      "\n"
     ]
    }
   ],
   "source": [
    "pip install QRcode"
   ]
  },
  {
   "cell_type": "code",
   "execution_count": 16,
   "id": "53214966",
   "metadata": {},
   "outputs": [],
   "source": [
    "#importing library to generate QRcode\n",
    "import qrcode"
   ]
  },
  {
   "cell_type": "code",
   "execution_count": 20,
   "id": "cf871672",
   "metadata": {},
   "outputs": [],
   "source": [
    "# creating the variable for the QR code\n",
    "qr = qrcode.QRCode(\n",
    "    version = 1,\n",
    "    box_size = 15,\n",
    "    border = 10\n",
    "    )\n",
    "\n",
    "# adding a link for the QR code to open\n",
    "data = 'https://github.com/Anshuma-thakur/Authenticator'\n",
    "qr.add_data(data)\n",
    "qr.make(fit=True)\n",
    "\n",
    "# adding the color\n",
    "img = qr.make_image(fill = 'black', back_color = 'white')\n",
    "img.save('AUTHENTICATOR.png')"
   ]
  },
  {
   "cell_type": "code",
   "execution_count": null,
   "id": "33bcf55a",
   "metadata": {},
   "outputs": [],
   "source": []
  }
 ],
 "metadata": {
  "kernelspec": {
   "display_name": "Python 3 (ipykernel)",
   "language": "python",
   "name": "python3"
  },
  "language_info": {
   "codemirror_mode": {
    "name": "ipython",
    "version": 3
   },
   "file_extension": ".py",
   "mimetype": "text/x-python",
   "name": "python",
   "nbconvert_exporter": "python",
   "pygments_lexer": "ipython3",
   "version": "3.9.12"
  }
 },
 "nbformat": 4,
 "nbformat_minor": 5
}
